{
 "cells": [
  {
   "cell_type": "markdown",
   "id": "278102b3",
   "metadata": {},
   "source": [
    "# Candidate Test 2022 Analysis Part 1\n",
    "\n",
    "This exercise focuses on the candidate tests from two television networks: DR and TV2. Data from both tests have been given on a scale of five responses (-2, -1, 0, 1, 2).\n",
    "\n",
    "---\n",
    "\n",
    "There are 6 datasets included in this exercise:\n",
    "\n",
    "- `alldata.xlsx`: Contains responses from both TV stations.\n",
    "- `drdata.xlsx`: Contains responses from DR.\n",
    "- `drq.xlsx`: Contains questions from DR.\n",
    "- `tv2data.xlsx`: Contains responses from TV2.\n",
    "- `tv2q.xlsx`: Contains questions from TV2.\n",
    "- `electeddata.xlsx`: Contains responses from both TV stations for candidates who were elected to the parliament. Note that 9 members are missing; 7 of them didn't take any of the tests. Additionally, some notable figures like Mette F. and Lars Løkke did not participate in any of the tests.\n",
    "\n",
    "---\n",
    "\n",
    "It's entirely up to you how you approach this data, but at a *minimum*, your analysis should include:\n",
    "- Age of the candidates grouped by parties.\n",
    "- An overview of the most \"confident\" candidates, i.e., those with the highest proportion of \"strongly agree\" or \"strongly disagree\" responses.\n",
    "- Differences in responses between candidates, both inter-party and intra-party, along with an explanation of which parties have the most internal disagreements.\n",
    "- Classification models to predict candidates' party affiliations. Investigate if there are any candidates who seem to be in the \"wrong\" party based on their political landscape positions. You must use the following three algorithms: **Decision Tree, Random Forrest, and Gradient Boosted Tree**, and **two other** classification algorithms of your choice.\n",
    "\n",
    "---\n",
    "\n",
    "The following parties are represented:\n",
    "\n",
    "| Party letter | Party name | Party name (English) | Political position |\n",
    "| :-: | :-: | :-: | :-: |\n",
    "| A | Socialdemokratiet | Social Democrats | Centre-left |\n",
    "| V | Venstre | Danish Liberal Party | Centre-right |\n",
    "| M | Moderaterne | Moderates | Centre-right |\n",
    "| F | Socialistisk Folkeparti | Socialist People's Party | Left-wing |\n",
    "| D | Danmarksdemokraterne | Denmark Democrats | Right-wing |\n",
    "| I | Liberal Alliance | Liberal Alliance | Right-wing |\n",
    "| C | Konservative | Conservative People's Party | Right-wing |\n",
    "| Æ | Enhedslisten | Red-Green Alliance | Far-left |\n",
    "| B | Radikale Venstre | Social Liberal Party | Centre-left |\n",
    "| D | Nye Borgerlige | New Right | Far-right |\n",
    "| Z | Alternativet | The Alternative | Centre-left |\n",
    "| O | Dansk Folkeparti | Danish People's Party | Far-right |\n",
    "| G | Frie Grønne | Free Greens | Centre-left |\n",
    "| K | Kristendemokraterne | Christian Democrats | Centre-right |\n",
    "\n",
    "Below you can see the results and the colors chosen to represent the parties. Use these colors in your analysis above.\n",
    "\n",
    "![Alt text](image-1.png)\n",
    "\n",
    "\n",
    "Others have undertaken similar analyses. You can draw inspiration from the following (use Google tranlsate if your Danish is rusty):\n",
    "\n",
    "- [Analysis of where individual candidates stand relative to each other and their parties](https://v2022.dumdata.dk/)\n",
    "- [Candidate Test 2022 – A deep dive into the data](https://kwedel.github.io/kandidattest2022/)\n",
    "- [The Political Landscape 2019](https://kwedel.github.io/kandidattest2019/)\n",
    "\n"
   ]
  },
  {
   "cell_type": "code",
   "execution_count": 156,
   "id": "be462ec6",
   "metadata": {},
   "outputs": [
    {
     "name": "stdout",
     "output_type": "stream",
     "text": [
      "RangeIndex(start=0, stop=867, step=1)\n"
     ]
    }
   ],
   "source": [
    "import pandas as pd\n",
    "import matplotlib.pyplot as plt\n",
    "from utils import generate_random_colors\n",
    "\n",
    "# load data\n",
    "df = pd.read_excel('alldata.xlsx')\n",
    "\n",
    "print(df.index)\n"
   ]
  },
  {
   "cell_type": "code",
   "execution_count": 157,
   "id": "ef955d8c",
   "metadata": {},
   "outputs": [
    {
     "data": {
      "text/plain": [
       "parti\n",
       "Alternativet                                   46.0\n",
       "Danmarksdemokraterne                           51.2\n",
       "Dansk Folkeparti                               45.5\n",
       "Det Konservative Folkeparti                    42.9\n",
       "Enhedslisten                                   40.5\n",
       "Frie Grønne, Danmarks Nye Venstrefløjsparti    34.8\n",
       "Kristendemokraterne                            49.0\n",
       "Liberal Alliance                               36.9\n",
       "Løsgænger                                      48.0\n",
       "Moderaterne                                    44.3\n",
       "Nye Borgerlige                                 47.6\n",
       "Radikale Venstre                               45.0\n",
       "Socialdemokratiet                              44.3\n",
       "Socialistisk Folkeparti                        40.9\n",
       "Venstre                                        46.7\n",
       "Name: alder, dtype: float64"
      ]
     },
     "metadata": {},
     "output_type": "display_data"
    }
   ],
   "source": [
    "\n",
    "# group data by party\n",
    "grouped_by_party = df.groupby(['parti'])\n",
    "\n",
    "# display average age\n",
    "display(grouped_by_party['alder'].mean().round(1))\n"
   ]
  },
  {
   "cell_type": "code",
   "execution_count": 158,
   "id": "bc51b9cf",
   "metadata": {},
   "outputs": [
    {
     "data": {
      "text/html": [
       "<div>\n",
       "<style scoped>\n",
       "    .dataframe tbody tr th:only-of-type {\n",
       "        vertical-align: middle;\n",
       "    }\n",
       "\n",
       "    .dataframe tbody tr th {\n",
       "        vertical-align: top;\n",
       "    }\n",
       "\n",
       "    .dataframe thead th {\n",
       "        text-align: right;\n",
       "    }\n",
       "</style>\n",
       "<table border=\"1\" class=\"dataframe\">\n",
       "  <thead>\n",
       "    <tr style=\"text-align: right;\">\n",
       "      <th></th>\n",
       "      <th>navn</th>\n",
       "      <th>confidence</th>\n",
       "    </tr>\n",
       "  </thead>\n",
       "  <tbody>\n",
       "    <tr>\n",
       "      <th>505</th>\n",
       "      <td>Sarah Nørris</td>\n",
       "      <td>49</td>\n",
       "    </tr>\n",
       "    <tr>\n",
       "      <th>88</th>\n",
       "      <td>Søren Vanting</td>\n",
       "      <td>49</td>\n",
       "    </tr>\n",
       "    <tr>\n",
       "      <th>559</th>\n",
       "      <td>Kim Andkjær Doberck</td>\n",
       "      <td>44</td>\n",
       "    </tr>\n",
       "    <tr>\n",
       "      <th>152</th>\n",
       "      <td>Rashid Ali</td>\n",
       "      <td>43</td>\n",
       "    </tr>\n",
       "    <tr>\n",
       "      <th>44</th>\n",
       "      <td>Mohamed Abdikarim</td>\n",
       "      <td>43</td>\n",
       "    </tr>\n",
       "    <tr>\n",
       "      <th>...</th>\n",
       "      <td>...</td>\n",
       "      <td>...</td>\n",
       "    </tr>\n",
       "    <tr>\n",
       "      <th>226</th>\n",
       "      <td>Halima El Abassi</td>\n",
       "      <td>2</td>\n",
       "    </tr>\n",
       "    <tr>\n",
       "      <th>509</th>\n",
       "      <td>Michael Mikkelsen</td>\n",
       "      <td>0</td>\n",
       "    </tr>\n",
       "    <tr>\n",
       "      <th>643</th>\n",
       "      <td>Søren Lund Hansen</td>\n",
       "      <td>0</td>\n",
       "    </tr>\n",
       "    <tr>\n",
       "      <th>699</th>\n",
       "      <td>Kasper Roug</td>\n",
       "      <td>0</td>\n",
       "    </tr>\n",
       "    <tr>\n",
       "      <th>216</th>\n",
       "      <td>Lars Aslan Rasmussen</td>\n",
       "      <td>0</td>\n",
       "    </tr>\n",
       "  </tbody>\n",
       "</table>\n",
       "<p>867 rows × 2 columns</p>\n",
       "</div>"
      ],
      "text/plain": [
       "                     navn  confidence\n",
       "505          Sarah Nørris          49\n",
       "88          Søren Vanting          49\n",
       "559   Kim Andkjær Doberck          44\n",
       "152            Rashid Ali          43\n",
       "44      Mohamed Abdikarim          43\n",
       "..                    ...         ...\n",
       "226      Halima El Abassi           2\n",
       "509     Michael Mikkelsen           0\n",
       "643     Søren Lund Hansen           0\n",
       "699           Kasper Roug           0\n",
       "216  Lars Aslan Rasmussen           0\n",
       "\n",
       "[867 rows x 2 columns]"
      ]
     },
     "execution_count": 158,
     "metadata": {},
     "output_type": "execute_result"
    }
   ],
   "source": [
    "# create a data frame where for each element value is true if the coressponding value was 2 or -2, otherwise false\n",
    "count = (df == 2) | (df == -2)\n",
    "\n",
    "# create a confidance column with sum of true values from count dataframe\n",
    "df['confidence'] = count.sum(axis=1)\n",
    "\n",
    "# select name and confidence from df and sort the values based on confidence in descending order\n",
    "df[['navn', 'confidence']].sort_values(by='confidence', ascending=False)"
   ]
  },
  {
   "cell_type": "code",
   "execution_count": 159,
   "id": "ed5b27d5",
   "metadata": {},
   "outputs": [
    {
     "data": {
      "image/png": "[encoded data removed]",
      "text/plain": [
       "<Figure size 1200x480 with 1 Axes>"
      ]
     },
     "metadata": {},
     "output_type": "display_data"
    }
   ],
   "source": [
    "\n",
    "drop_cols = ['storkreds', 'navn', 'alder', 'confidence']\n",
    "questions_df = df.drop(columns=drop_cols)\n",
    "\n",
    "# group data by party\n",
    "grouped_by_party = questions_df.groupby(['parti'])\n",
    "\n",
    "# calculate standard deviation for each question group by party\n",
    "std_by_question = grouped_by_party.std()\n",
    "\n",
    "# sum question together, sort in descending order\n",
    "std_by_party = std_by_question.sum(axis=1).sort_values(ascending=False)\n",
    "\n",
    "# get keys and values of standard deviation summed up\n",
    "parties = std_by_party.keys()\n",
    "values = std_by_party.values\n",
    "\n",
    "# plotting data\n",
    "fig, ax = plt.subplots()\n",
    "\n",
    "fig.set_figwidth(12)\n",
    "\n",
    "colors = generate_random_colors(len(parties))\n",
    "\n",
    "ax.set_ylabel('Difference in answers (std)')\n",
    "ax.set_title('Difference in response to question by political parties')\n",
    "ax.bar(parties, values, color=colors)\n",
    "ax.tick_params(axis='x', labelrotation=270)\n",
    "\n",
    "plt.show()\n",
    "\n"
   ]
  },
  {
   "cell_type": "markdown",
   "id": "684f6c3e",
   "metadata": {},
   "source": [
    "According to my analysis, Losgaenger is the party that has the most disagreements. Nye Borgerlige on the other hand, is that party that has the least disagreements."
   ]
  },
  {
   "cell_type": "markdown",
   "id": "94958c96",
   "metadata": {},
   "source": [
    "### Difference between candidates\n",
    "While difference within a party can by calculated using standard deviation, it can't really be used to calculate differences between two specific candiates. To do that we can calculate how many steps are needed to go from one candidates answers to second."
   ]
  },
  {
   "cell_type": "code",
   "execution_count": 160,
   "id": "d18d11cb",
   "metadata": {},
   "outputs": [
    {
     "name": "stdout",
     "output_type": "stream",
     "text": [
      "The maximum difference is: 168. It is between candidate Sarah Nørris and Rikke Norlyk\n"
     ]
    }
   ],
   "source": [
    "drop_cols = ['storkreds', 'alder', 'parti', 'confidence']\n",
    "answers_df = df.drop(columns=drop_cols)\n",
    "\n",
    "\n",
    "#helper function to calculate difference between two candidates\n",
    "def get_candidates_difference(candidate1, candidate2): \n",
    "    difference_count = 0\n",
    "    for (columnName, columnData) in answers_df.items():\n",
    "        if( columnName != 'navn' ):\n",
    "            difference_count += abs(candidate1[1][columnName] - candidate2[1][columnName])\n",
    "\n",
    "    return difference_count, candidate1, candidate2\n",
    "\n",
    "\n",
    "# let's calculate biggest difference between two candidates, regardless of party\n",
    "max_diff = 0\n",
    "c1_temp = None\n",
    "c2_temp = None\n",
    "\n",
    "for candidate1 in answers_df.iterrows():\n",
    "    for candidate2 in answers_df.iterrows():\n",
    "        diff, c1, c2 = get_candidates_difference(candidate1, candidate2)\n",
    "\n",
    "        if(diff > max_diff): \n",
    "            max_diff = diff\n",
    "            c1_temp = c1\n",
    "            c2_temp = c2\n",
    "\n",
    "print(f\"The maximum difference is: {max_diff}. It is between candidate {c1_temp[1]['navn']} and {c2_temp[1]['navn']}\")"
   ]
  },
  {
   "cell_type": "markdown",
   "id": "55411fdc",
   "metadata": {},
   "source": [
    "Let's do the same within a party, to do that we need to create an average candidate for each party"
   ]
  },
  {
   "cell_type": "code",
   "execution_count": 164,
   "id": "a55dffe1",
   "metadata": {},
   "outputs": [],
   "source": [
    "drop_cols = ['storkreds', 'alder', 'confidence']\n",
    "answers_df = df.drop(columns=drop_cols, axis=1)\n",
    "\n",
    "def get_candidates_difference(candidate1, candidate2): \n",
    "    difference_count = 0\n",
    "    for (columnName, columnData) in answers_df.items():\n",
    "        if( columnName not in ['navn', 'parti'] ):\n",
    "            difference_count += abs(candidate1[1][columnName] - candidate2[1][columnName])\n",
    "\n",
    "    return difference_count, candidate1, candidate2\n",
    "\n",
    "# group data by party\n",
    "grouped_by_party = answers_df.groupby('parti')\n",
    "\n",
    "# loop through parties\n",
    "for by_party_label, by_party_data in grouped_by_party:\n",
    "\n",
    "    # create an average candidate\n",
    "    avg_party_candidate = by_party_data.loc[:, ~by_party_data.columns.isin(['navn', 'parti'])].mean()\n",
    "    # create a tuple from avg candidate\n",
    "    avg_party_candidate = ('Average', avg_party_candidate)\n",
    "\n",
    "    # fig, ax = plt.subplots()\n",
    "    # fig.set_figwidth(15)\n",
    "    # ax.set_ylabel(f'Difference in answers')\n",
    "    # ax.set_title(by_party_data['parti'].values[0])\n",
    "    # ax.tick_params(axis='x', labelrotation=270)\n",
    "\n",
    "    plot_labels = []\n",
    "    plot_height = []\n",
    "    # iterate through party candidates\n",
    "    for candidate_data in by_party_data.iterrows():\n",
    "\n",
    "        # get difference between a candidate and party average\n",
    "        diff, c1, c2 = get_candidates_difference(candidate_data, avg_party_candidate)\n",
    "\n",
    "        # plot_labels.append(candidate_data[1]['navn'])\n",
    "        # plot_height.append(diff)\n",
    "\n",
    "    # ax.bar(plot_labels, plot_height, color=colors)\n",
    "\n",
    "\n",
    "\n",
    "# for party in grouped_by_party:\n",
    "\n",
    "#     avg_candidate = party"
   ]
  },
  {
   "cell_type": "markdown",
   "id": "477cdce5",
   "metadata": {},
   "source": [
    "### Models"
   ]
  },
  {
   "cell_type": "code",
   "execution_count": 237,
   "id": "1b0ec8c7",
   "metadata": {},
   "outputs": [],
   "source": [
    "from sklearn.model_selection import train_test_split\n",
    "import numpy as np\n",
    "\n",
    "\n",
    "drop_cols = ['storkreds', 'navn', 'alder', 'confidence', 'parti']\n",
    "questions_df = df.drop(columns=drop_cols)\n",
    "\n",
    "target = df['parti']\n",
    "data = questions_df\n",
    "\n",
    "def plot_feature_importances(model):\n",
    "    n_features = data.shape[1]\n",
    "    plt.figure(figsize=(20,30))\n",
    "    plt.barh(range(n_features), model.feature_importances_, align='center')\n",
    "    plt.yticks(np.arange(n_features), data.columns.values, fontsize=8)\n",
    "    plt.xlabel(\"Feature importance\")\n",
    "    plt.ylabel(\"Feature\")\n",
    "\n",
    "X_rest, X_test, y_rest, y_test = train_test_split(data, target, stratify=target, random_state=41)\n",
    "X_train, X_val, y_train, y_val = train_test_split(X_rest, y_rest, stratify=y_rest, random_state=41)"
   ]
  },
  {
   "cell_type": "markdown",
   "id": "248ee4e6",
   "metadata": {},
   "source": [
    "### Decision Tree"
   ]
  },
  {
   "cell_type": "code",
   "execution_count": 248,
   "id": "d174a45e",
   "metadata": {},
   "outputs": [
    {
     "name": "stdout",
     "output_type": "stream",
     "text": [
      "New best accuracy: 0.6257668711656442\n",
      "New best accuracy: 0.6625766871165644\n",
      "New best accuracy: 0.6871165644171779\n",
      "New best accuracy: 0.6932515337423313\n",
      "New best accuracy: 0.6993865030674846\n",
      "{'depth': 10, 'samples_split': 12}\n"
     ]
    },
    {
     "data": {
      "text/plain": [
       "0.7050691244239631"
      ]
     },
     "execution_count": 248,
     "metadata": {},
     "output_type": "execute_result"
    }
   ],
   "source": [
    "from sklearn.tree import DecisionTreeClassifier\n",
    "\n",
    "param_grid = {\n",
    "    'depth': [5, 10, 50, 100],\n",
    "    'samples_split': [2, 4, 8, 12, 20]\n",
    "}\n",
    "\n",
    "best_params = {}\n",
    "best_score = 0\n",
    "\n",
    "for d in param_grid['depth']:\n",
    "    for s in param_grid['samples_split']:\n",
    "        tree = DecisionTreeClassifier(max_depth=d, min_samples_split=s, random_state=0)\n",
    "        tree.fit(X_train, y_train)\n",
    "\n",
    "        if tree.score(X_val, y_val) > best_score:\n",
    "            best_score = tree.score(X_val, y_val)\n",
    "            print(f'New best accuracy: {best_score}')\n",
    "            best_params = {'depth': d, 'samples_split': s}\n",
    "\n",
    "\n",
    "print(best_params)\n",
    "\n",
    "tree = DecisionTreeClassifier(max_depth=best_params['depth'], min_samples_split=best_params['samples_split'], random_state=0)\n",
    "tree.fit(X_rest, y_rest)\n",
    "\n",
    "tree.score(X_test, y_test)\n",
    "# plot_feature_importances(tree)"
   ]
  },
  {
   "cell_type": "markdown",
   "id": "6cfb6e95",
   "metadata": {},
   "source": [
    "### Random forest"
   ]
  },
  {
   "cell_type": "code",
   "execution_count": 256,
   "id": "93c7e7d1",
   "metadata": {},
   "outputs": [
    {
     "name": "stdout",
     "output_type": "stream",
     "text": [
      "New best accuracy: 0.8711656441717791\n",
      "New best accuracy: 0.8895705521472392\n",
      "New best accuracy: 0.8957055214723927\n",
      "New best accuracy: 0.9141104294478528\n",
      "New best accuracy: 0.9202453987730062\n",
      "{'depth': 7, 'n': 100, 'max_f': 7}\n"
     ]
    },
    {
     "data": {
      "text/plain": [
       "0.9124423963133641"
      ]
     },
     "execution_count": 256,
     "metadata": {},
     "output_type": "execute_result"
    }
   ],
   "source": [
    "from sklearn.ensemble import RandomForestClassifier\n",
    "\n",
    "param_grid= {\n",
    "    'n': [25, 50, 100, 150],\n",
    "    'depth': [5,7,10,15],\n",
    "    'max_f': [7,10,20,30,40]\n",
    "}\n",
    "\n",
    "best_params = {}\n",
    "best_score = 0\n",
    "\n",
    "for n in param_grid['n']:\n",
    "    for d in param_grid['depth']:\n",
    "        for mf in param_grid['max_f']:\n",
    "\n",
    "            forest = RandomForestClassifier(n_estimators = n, max_depth = d, max_features = mf, random_state = 42)\n",
    "            forest.fit(X_train, y_train)\n",
    "\n",
    "            if forest.score(X_val, y_val) > best_score:\n",
    "                best_score = forest.score(X_val, y_val)\n",
    "                print(f'New best accuracy: {best_score}')\n",
    "                best_params = {'depth': d, 'n': n, 'max_f': mf}\n",
    "\n",
    "print(best_params)\n",
    "\n",
    "forest = RandomForestClassifier(n_estimators = best_params['n'], max_depth  = best_params['depth'], max_features  = best_params['max_f'], random_state = 42)\n",
    "forest.fit(X_rest, y_rest)\n",
    "\n",
    "forest.score(X_test, y_test)\n",
    "# plot_feature_importances(forest)"
   ]
  },
  {
   "cell_type": "markdown",
   "id": "8599d00a",
   "metadata": {},
   "source": [
    "### Gradient Boosted Tree"
   ]
  },
  {
   "cell_type": "code",
   "execution_count": 222,
   "id": "6aa58252",
   "metadata": {},
   "outputs": [
    {
     "name": "stdout",
     "output_type": "stream",
     "text": [
      "Train accuracy: 0.9646153846153847\n",
      "Test accuracy: 0.8294930875576036\n"
     ]
    }
   ],
   "source": [
    "from sklearn.ensemble import GradientBoostingClassifier\n",
    "\n",
    "boosted = GradientBoostingClassifier(random_state = 42, n_estimators = 100, max_depth = 3, learning_rate = 0.01)\n",
    "boosted.fit(X_train, y_train)\n",
    "\n",
    "print(\"Train accuracy: {}\".format(boosted.score(X_train, y_train)))\n",
    "print(\"Test accuracy: {}\".format(boosted.score(X_test, y_test)))\n",
    "# plot_feature_importances(boosted)"
   ]
  },
  {
   "cell_type": "markdown",
   "id": "a35ef887",
   "metadata": {},
   "source": [
    "# Logistic Regression \n",
    "Note: Feature scaling doesn't improve model performance for tree based models, for logistic regression on the other hand, it might improve it's performance"
   ]
  },
  {
   "cell_type": "code",
   "execution_count": null,
   "id": "88ab3517",
   "metadata": {},
   "outputs": [],
   "source": [
    "from sklearn.preprocessing import StandardScaler\n",
    "\n",
    "# Logical regression model converges faster if the data is scaled\n",
    "# Standard scaler is used to scale the data\n",
    "scaler = StandardScaler()\n",
    "\n",
    "# Scaler is fit only on training data, because we want to avoid data leakage\n",
    "X_train = scaler.fit_transform(X_train)\n",
    "\n",
    "# Test data is transformed\n",
    "X_test = scaler.transform(X_test)"
   ]
  },
  {
   "cell_type": "code",
   "execution_count": 227,
   "id": "60fbec2b",
   "metadata": {},
   "outputs": [
    {
     "name": "stdout",
     "output_type": "stream",
     "text": [
      "Train accuracy: 0.9815384615384616\n",
      "Test accuracy: 0.8940092165898618\n"
     ]
    }
   ],
   "source": [
    "from sklearn.linear_model import LogisticRegression\n",
    "\n",
    "lr = LogisticRegression(penalty='l2', C=0.1, max_iter=1000)\n",
    "lr.fit(X_train, y_train)\n",
    "\n",
    "print(\"Train accuracy: {}\".format(lr.score(X_train, y_train)))\n",
    "print(\"Test accuracy: {}\".format(lr.score(X_test, y_test)))\n",
    "\n",
    "from sklearn.neighbors import KNeighborsClassifier"
   ]
  },
  {
   "cell_type": "markdown",
   "id": "fcceeb86",
   "metadata": {},
   "source": [
    "### KNN Classifier"
   ]
  },
  {
   "cell_type": "code",
   "execution_count": 231,
   "id": "35c8baeb",
   "metadata": {},
   "outputs": [
    {
     "name": "stdout",
     "output_type": "stream",
     "text": [
      "Train accuracy: 0.9138461538461539\n",
      "Test accuracy: 0.880184331797235\n"
     ]
    }
   ],
   "source": [
    "from sklearn.neighbors import KNeighborsClassifier\n",
    "\n",
    "knn = KNeighborsClassifier(n_neighbors=10, metric='euclidean')\n",
    "knn.fit(X_train, y_train)\n",
    "\n",
    "print(\"Train accuracy: {}\".format(knn.score(X_train, y_train)))\n",
    "print(\"Test accuracy: {}\".format(knn.score(X_test, y_test)))\n",
    "\n",
    "from sklearn.neighbors import KNeighborsClassifier"
   ]
  }
 ],
 "metadata": {
  "kernelspec": {
   "display_name": "Python 3.11.7 64-bit",
   "language": "python",
   "name": "python3"
  },
  "language_info": {
   "codemirror_mode": {
    "name": "ipython",
    "version": 3
   },
   "file_extension": ".py",
   "mimetype": "text/x-python",
   "name": "python",
   "nbconvert_exporter": "python",
   "pygments_lexer": "ipython3",
   "version": "3.11.7"
  },
  "vscode": {
   "interpreter": {
    "hash": "b0fa6594d8f4cbf19f97940f81e996739fb7646882a419484c72d19e05852a7e"
   }
  }
 },
 "nbformat": 4,
 "nbformat_minor": 5
}
